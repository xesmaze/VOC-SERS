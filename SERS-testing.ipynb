{
 "cells": [
  {
   "cell_type": "raw",
   "id": "efee0307-1275-4c0f-81ca-0fcb3818b410",
   "metadata": {},
   "source": [
    "Start with comparing 1a to 1b- One of them is suspended over EtOH, the other is over ddH2O, both were treated with AgNP solution 3 in the folder AgNP-S1\n",
    "Moderately sized particles between 100nm to 1000nm- D50 -at 251 coressponding to the larger of the two peaks. Zeta potential at 21.12, fairly stable.\n",
    "This is the treatement for all volatile samples.\n",
    "The Blanks are labelled\n",
    "Sample 0 - filterpaper with no treatment\n",
    "Sample 3a and Sample 3b - AgNP treated- suspended over dH2O\n",
    "First check if there is any difference between S0 and S3b"
   ]
  },
  {
   "cell_type": "code",
   "execution_count": 1,
   "id": "eb28b4e4-1999-49bc-815c-ecc677e45e66",
   "metadata": {},
   "outputs": [
    {
     "name": "stdout",
     "output_type": "stream",
     "text": [
      "\n",
      "CondaValueError: prefix already exists: /opt/conda/envs/pymc-voc\n",
      "\n",
      "usage: conda [-h] [-v] [--no-plugins] [-V] COMMAND ...\n",
      "conda: error: argument COMMAND: invalid choice: 'activate' (choose from 'clean', 'compare', 'config', 'create', 'info', 'init', 'install', 'list', 'notices', 'package', 'remove', 'uninstall', 'rename', 'run', 'search', 'update', 'upgrade', 'doctor', 'env')\n",
      "0.00s - Debugger warning: It seems that frozen modules are being used, which may\n",
      "0.00s - make the debugger miss breakpoints. Please pass -Xfrozen_modules=off\n",
      "0.00s - to python to disable frozen modules.\n",
      "0.00s - Note: Debugging will proceed. Set PYDEVD_DISABLE_FILE_VALIDATION=1 to disable this validation.\n",
      "Installed kernelspec pymc-voc in /home/ese/.local/share/jupyter/kernels/pymc-voc\n"
     ]
    }
   ],
   "source": [
    "!conda env create -f pymc-env.yml\n",
    "!conda activate pymc-voc\n",
    "!python -m ipykernel install --user --name pymc-voc --display-name \"PyMC VOC (safe)\""
   ]
  },
  {
   "cell_type": "code",
   "execution_count": 2,
   "id": "6c1a27a7-6a38-4c52-b238-035f5b419455",
   "metadata": {},
   "outputs": [
    {
     "name": "stdout",
     "output_type": "stream",
     "text": [
      "Found existing installation: pymc 5.25.1\n",
      "Uninstalling pymc-5.25.1:\n",
      "  Successfully uninstalled pymc-5.25.1\n"
     ]
    }
   ],
   "source": [
    "!pip uninstall pymc -y"
   ]
  },
  {
   "cell_type": "code",
   "execution_count": null,
   "id": "8ff08494-43c7-4162-bbdd-65b0eb0cae19",
   "metadata": {},
   "outputs": [
    {
     "name": "stdout",
     "output_type": "stream",
     "text": [
      "Collecting package metadata (current_repodata.json): done\n",
      "Solving environment: unsuccessful initial attempt using frozen solve. Retrying with flexible solve.\n",
      "Collecting package metadata (repodata.json): done\n",
      "Solving environment: / "
     ]
    }
   ],
   "source": [
    "!conda install -c conda-forge pymc=5.9.0 numpy=1.23.5 arviz=0.15.1 xarray=2023.6.0"
   ]
  },
  {
   "cell_type": "code",
   "execution_count": 3,
   "id": "22f5bfde-8492-4df8-ae49-dfa6aefaa04f",
   "metadata": {},
   "outputs": [
    {
     "ename": "ModuleNotFoundError",
     "evalue": "No module named 'pymc'",
     "output_type": "error",
     "traceback": [
      "\u001b[0;31m---------------------------------------------------------------------------\u001b[0m",
      "\u001b[0;31mModuleNotFoundError\u001b[0m                       Traceback (most recent call last)",
      "Cell \u001b[0;32mIn[3], line 1\u001b[0m\n\u001b[0;32m----> 1\u001b[0m \u001b[38;5;28;01mimport\u001b[39;00m \u001b[38;5;21;01mpymc\u001b[39;00m \u001b[38;5;28;01mas\u001b[39;00m \u001b[38;5;21;01mpm\u001b[39;00m\n\u001b[1;32m      2\u001b[0m \u001b[38;5;28;01mimport\u001b[39;00m \u001b[38;5;21;01marviz\u001b[39;00m \u001b[38;5;28;01mas\u001b[39;00m \u001b[38;5;21;01maz\u001b[39;00m\n\u001b[1;32m      3\u001b[0m \u001b[38;5;28;01mimport\u001b[39;00m \u001b[38;5;21;01mnumpy\u001b[39;00m \u001b[38;5;28;01mas\u001b[39;00m \u001b[38;5;21;01mnp\u001b[39;00m\n",
      "\u001b[0;31mModuleNotFoundError\u001b[0m: No module named 'pymc'"
     ]
    }
   ],
   "source": [
    "import pymc as pm\n",
    "import arviz as az\n",
    "import numpy as np\n",
    "import xarray as xr\n",
    "\n",
    "print(\"PyMC:\", pm.__version__)\n",
    "print(\"NumPy:\", np.__version__)\n",
    "print(\"ArviZ:\", az.__version__)\n",
    "print(\"xarray:\", xr.__version__)"
   ]
  },
  {
   "cell_type": "code",
   "execution_count": 1,
   "id": "3faf26df-f569-4880-947b-f162f63fc65a",
   "metadata": {},
   "outputs": [
    {
     "name": "stdout",
     "output_type": "stream",
     "text": [
      "Requirement already satisfied: scipy in /opt/conda/lib/python3.11/site-packages (1.11.3)\n",
      "Requirement already satisfied: scikit-learn in /opt/conda/lib/python3.11/site-packages (1.3.1)\n",
      "Requirement already satisfied: numpy<1.28.0,>=1.21.6 in /opt/conda/lib/python3.11/site-packages (from scipy) (1.23.5)\n",
      "Requirement already satisfied: joblib>=1.1.1 in /opt/conda/lib/python3.11/site-packages (from scikit-learn) (1.3.2)\n",
      "Requirement already satisfied: threadpoolctl>=2.0.0 in /opt/conda/lib/python3.11/site-packages (from scikit-learn) (3.2.0)\n"
     ]
    }
   ],
   "source": [
    "!pip install scipy scikit-learn"
   ]
  },
  {
   "cell_type": "code",
   "execution_count": 2,
   "id": "3888001b-93a9-4dd2-a510-5ca6ec0bb723",
   "metadata": {},
   "outputs": [],
   "source": [
    "from scipy.signal import savgol_filter\n",
    "from sklearn.linear_model import RANSACRegressor\n",
    "import numpy as np\n",
    "import pandas as pd\n",
    "import matplotlib.pyplot as plt"
   ]
  },
  {
   "cell_type": "code",
   "execution_count": 3,
   "id": "3e755789-d430-45ed-b319-fa602eb04885",
   "metadata": {},
   "outputs": [],
   "source": [
    "# Load the Raman spectral data from the text file\n",
    "file_path = \"Sample 0.txt\"\n",
    "\n",
    "# Read the data while skipping the header lines\n",
    "df = pd.read_csv(file_path, sep=\"\\t\", comment=\"#\", header=None)\n",
    "\n",
    "# Keep only the first column pair as wavenumber and intensity\n",
    "wavenumbers = df.iloc[:, [0,2,4]]\n",
    "intensities = df.iloc[:, [1,3,5]]"
   ]
  },
  {
   "cell_type": "code",
   "execution_count": 4,
   "id": "4714296d-a874-4ae2-9c76-d0251b3158b8",
   "metadata": {},
   "outputs": [
    {
     "data": {
      "text/html": [
       "<div>\n",
       "<style scoped>\n",
       "    .dataframe tbody tr th:only-of-type {\n",
       "        vertical-align: middle;\n",
       "    }\n",
       "\n",
       "    .dataframe tbody tr th {\n",
       "        vertical-align: top;\n",
       "    }\n",
       "\n",
       "    .dataframe thead th {\n",
       "        text-align: right;\n",
       "    }\n",
       "</style>\n",
       "<table border=\"1\" class=\"dataframe\">\n",
       "  <thead>\n",
       "    <tr style=\"text-align: right;\">\n",
       "      <th></th>\n",
       "      <th>0</th>\n",
       "      <th>2</th>\n",
       "      <th>4</th>\n",
       "    </tr>\n",
       "  </thead>\n",
       "  <tbody>\n",
       "    <tr>\n",
       "      <th>0</th>\n",
       "      <td>wn(8/4/2025 3:49:36 PM Index:3)</td>\n",
       "      <td>wn(8/4/2025 3:47:54 PM Index:2)</td>\n",
       "      <td>wn(8/4/2025 3:46:13 PM Index:1)</td>\n",
       "    </tr>\n",
       "    <tr>\n",
       "      <th>1</th>\n",
       "      <td>180.486708504808</td>\n",
       "      <td>180.486708504808</td>\n",
       "      <td>180.486708504808</td>\n",
       "    </tr>\n",
       "    <tr>\n",
       "      <th>2</th>\n",
       "      <td>181.467628538334</td>\n",
       "      <td>181.467628538334</td>\n",
       "      <td>181.467628538334</td>\n",
       "    </tr>\n",
       "    <tr>\n",
       "      <th>3</th>\n",
       "      <td>182.449291791087</td>\n",
       "      <td>182.449291791087</td>\n",
       "      <td>182.449291791087</td>\n",
       "    </tr>\n",
       "    <tr>\n",
       "      <th>4</th>\n",
       "      <td>183.429905306741</td>\n",
       "      <td>183.429905306741</td>\n",
       "      <td>183.429905306741</td>\n",
       "    </tr>\n",
       "    <tr>\n",
       "      <th>...</th>\n",
       "      <td>...</td>\n",
       "      <td>...</td>\n",
       "      <td>...</td>\n",
       "    </tr>\n",
       "    <tr>\n",
       "      <th>1336</th>\n",
       "      <td>1355.81993629043</td>\n",
       "      <td>1355.81993629043</td>\n",
       "      <td>1355.81993629043</td>\n",
       "    </tr>\n",
       "    <tr>\n",
       "      <th>1337</th>\n",
       "      <td>1356.608186908</td>\n",
       "      <td>1356.608186908</td>\n",
       "      <td>1356.608186908</td>\n",
       "    </tr>\n",
       "    <tr>\n",
       "      <th>1338</th>\n",
       "      <td>1357.39632837819</td>\n",
       "      <td>1357.39632837819</td>\n",
       "      <td>1357.39632837819</td>\n",
       "    </tr>\n",
       "    <tr>\n",
       "      <th>1339</th>\n",
       "      <td>1358.18436072365</td>\n",
       "      <td>1358.18436072365</td>\n",
       "      <td>1358.18436072365</td>\n",
       "    </tr>\n",
       "    <tr>\n",
       "      <th>1340</th>\n",
       "      <td>1358.97302029289</td>\n",
       "      <td>1358.97302029289</td>\n",
       "      <td>1358.97302029289</td>\n",
       "    </tr>\n",
       "  </tbody>\n",
       "</table>\n",
       "<p>1341 rows × 3 columns</p>\n",
       "</div>"
      ],
      "text/plain": [
       "                                    0                                2  \\\n",
       "0     wn(8/4/2025 3:49:36 PM Index:3)  wn(8/4/2025 3:47:54 PM Index:2)   \n",
       "1                    180.486708504808                 180.486708504808   \n",
       "2                    181.467628538334                 181.467628538334   \n",
       "3                    182.449291791087                 182.449291791087   \n",
       "4                    183.429905306741                 183.429905306741   \n",
       "...                               ...                              ...   \n",
       "1336                 1355.81993629043                 1355.81993629043   \n",
       "1337                   1356.608186908                   1356.608186908   \n",
       "1338                 1357.39632837819                 1357.39632837819   \n",
       "1339                 1358.18436072365                 1358.18436072365   \n",
       "1340                 1358.97302029289                 1358.97302029289   \n",
       "\n",
       "                                    4  \n",
       "0     wn(8/4/2025 3:46:13 PM Index:1)  \n",
       "1                    180.486708504808  \n",
       "2                    181.467628538334  \n",
       "3                    182.449291791087  \n",
       "4                    183.429905306741  \n",
       "...                               ...  \n",
       "1336                 1355.81993629043  \n",
       "1337                   1356.608186908  \n",
       "1338                 1357.39632837819  \n",
       "1339                 1358.18436072365  \n",
       "1340                 1358.97302029289  \n",
       "\n",
       "[1341 rows x 3 columns]"
      ]
     },
     "execution_count": 4,
     "metadata": {},
     "output_type": "execute_result"
    }
   ],
   "source": [
    "wavenumbers"
   ]
  },
  {
   "cell_type": "code",
   "execution_count": 5,
   "id": "87680b9e-ba51-4cc4-82a2-d2a4e2d297ff",
   "metadata": {},
   "outputs": [
    {
     "data": {
      "text/html": [
       "<div>\n",
       "<style scoped>\n",
       "    .dataframe tbody tr th:only-of-type {\n",
       "        vertical-align: middle;\n",
       "    }\n",
       "\n",
       "    .dataframe tbody tr th {\n",
       "        vertical-align: top;\n",
       "    }\n",
       "\n",
       "    .dataframe thead th {\n",
       "        text-align: right;\n",
       "    }\n",
       "</style>\n",
       "<table border=\"1\" class=\"dataframe\">\n",
       "  <thead>\n",
       "    <tr style=\"text-align: right;\">\n",
       "      <th></th>\n",
       "      <th>1</th>\n",
       "      <th>3</th>\n",
       "      <th>5</th>\n",
       "    </tr>\n",
       "  </thead>\n",
       "  <tbody>\n",
       "    <tr>\n",
       "      <th>0</th>\n",
       "      <td>8/4/2025 3:49:36 PM Index:3</td>\n",
       "      <td>8/4/2025 3:47:54 PM Index:2</td>\n",
       "      <td>8/4/2025 3:46:13 PM Index:1</td>\n",
       "    </tr>\n",
       "    <tr>\n",
       "      <th>1</th>\n",
       "      <td>0.444351268066051</td>\n",
       "      <td>0.689969217362016</td>\n",
       "      <td>0.457959214862805</td>\n",
       "    </tr>\n",
       "    <tr>\n",
       "      <th>2</th>\n",
       "      <td>0.482111586460149</td>\n",
       "      <td>0.656921923683754</td>\n",
       "      <td>0.486114486317759</td>\n",
       "    </tr>\n",
       "    <tr>\n",
       "      <th>3</th>\n",
       "      <td>0.449004541203853</td>\n",
       "      <td>0.663859670218808</td>\n",
       "      <td>0.46658750098449</td>\n",
       "    </tr>\n",
       "    <tr>\n",
       "      <th>4</th>\n",
       "      <td>0.469562899526185</td>\n",
       "      <td>0.652870368664354</td>\n",
       "      <td>0.441768257958567</td>\n",
       "    </tr>\n",
       "    <tr>\n",
       "      <th>...</th>\n",
       "      <td>...</td>\n",
       "      <td>...</td>\n",
       "      <td>...</td>\n",
       "    </tr>\n",
       "    <tr>\n",
       "      <th>1336</th>\n",
       "      <td>0.0956976243127492</td>\n",
       "      <td>0.0221904579963906</td>\n",
       "      <td>0.0436475872340903</td>\n",
       "    </tr>\n",
       "    <tr>\n",
       "      <th>1337</th>\n",
       "      <td>0.111030583461004</td>\n",
       "      <td>0.0405412158608649</td>\n",
       "      <td>0.062196500577219</td>\n",
       "    </tr>\n",
       "    <tr>\n",
       "      <th>1338</th>\n",
       "      <td>0.133572386537997</td>\n",
       "      <td>0.042606687878015</td>\n",
       "      <td>0.0331854534423533</td>\n",
       "    </tr>\n",
       "    <tr>\n",
       "      <th>1339</th>\n",
       "      <td>0.0886414031987004</td>\n",
       "      <td>0.0387935584994571</td>\n",
       "      <td>0.028452142763118</td>\n",
       "    </tr>\n",
       "    <tr>\n",
       "      <th>1340</th>\n",
       "      <td>0.113662372539813</td>\n",
       "      <td>0.0160734956088759</td>\n",
       "      <td>0.0624934571687236</td>\n",
       "    </tr>\n",
       "  </tbody>\n",
       "</table>\n",
       "<p>1341 rows × 3 columns</p>\n",
       "</div>"
      ],
      "text/plain": [
       "                                1                            3  \\\n",
       "0     8/4/2025 3:49:36 PM Index:3  8/4/2025 3:47:54 PM Index:2   \n",
       "1               0.444351268066051            0.689969217362016   \n",
       "2               0.482111586460149            0.656921923683754   \n",
       "3               0.449004541203853            0.663859670218808   \n",
       "4               0.469562899526185            0.652870368664354   \n",
       "...                           ...                          ...   \n",
       "1336           0.0956976243127492           0.0221904579963906   \n",
       "1337            0.111030583461004           0.0405412158608649   \n",
       "1338            0.133572386537997            0.042606687878015   \n",
       "1339           0.0886414031987004           0.0387935584994571   \n",
       "1340            0.113662372539813           0.0160734956088759   \n",
       "\n",
       "                                5  \n",
       "0     8/4/2025 3:46:13 PM Index:1  \n",
       "1               0.457959214862805  \n",
       "2               0.486114486317759  \n",
       "3                0.46658750098449  \n",
       "4               0.441768257958567  \n",
       "...                           ...  \n",
       "1336           0.0436475872340903  \n",
       "1337            0.062196500577219  \n",
       "1338           0.0331854534423533  \n",
       "1339            0.028452142763118  \n",
       "1340           0.0624934571687236  \n",
       "\n",
       "[1341 rows x 3 columns]"
      ]
     },
     "execution_count": 5,
     "metadata": {},
     "output_type": "execute_result"
    }
   ],
   "source": [
    "intensities"
   ]
  },
  {
   "cell_type": "code",
   "execution_count": 6,
   "id": "20e96cf6-2a14-45c4-8632-0bf25bdc1a68",
   "metadata": {},
   "outputs": [
    {
     "data": {
      "image/png": "[encoded data removed]",
      "text/plain": [
       "<Figure size 1200x600 with 1 Axes>"
      ]
     },
     "metadata": {},
     "output_type": "display_data"
    }
   ],
   "source": [
    "# Plot the consensus spectrum for Sample 0 in black and white\n",
    "df = intensities.iloc[1:].reset_index(drop=True)\n",
    "df = df.apply(pd.to_numeric, errors='coerce')\n",
    "df_centered = df - df.mean(axis=0)\n",
    "\n",
    "df_t = df_centered.T\n",
    "# Rename columns to categorical sample labels\n",
    "df_t.columns = [f\"{i+1}\" for i in range(df_t.shape[1])]\n",
    "\n",
    "# Boxplot (each row now shown as a box) to check the agreement across the 3 measurements taken per sample\n",
    "plt.figure(figsize=(12, 6))\n",
    "df_t.boxplot(grid=False, color=dict(boxes='black', whiskers='black', medians='black', caps='black'))\n",
    "\n",
    "plt.xlabel(\"Wavenumber Index\", fontsize=12)\n",
    "plt.ylabel(\"Intensity (a.u.)\", fontsize=12)\n",
    "plt.title(\"Box-Whisker Plot of Intensities by Wavenumber\", fontsize=14)\n",
    "plt.xticks(rotation=90)\n",
    "plt.tight_layout()\n",
    "plt.savefig(\"mean_centered_boxplot_s0_Spectra.png\", dpi=300, bbox_inches='tight')\n",
    "plt.show()"
   ]
  },
  {
   "cell_type": "code",
   "execution_count": 7,
   "id": "f2518151-716d-431b-9e57-0bde9fa596f6",
   "metadata": {},
   "outputs": [
    {
     "name": "stdout",
     "output_type": "stream",
     "text": [
      "Requirement already satisfied: pymc in /opt/conda/lib/python3.11/site-packages (5.25.1)\n",
      "Requirement already satisfied: arviz>=0.13.0 in /opt/conda/lib/python3.11/site-packages (from pymc) (0.22.0)\n",
      "Requirement already satisfied: cachetools>=4.2.1 in /opt/conda/lib/python3.11/site-packages (from pymc) (6.1.0)\n",
      "Requirement already satisfied: cloudpickle in /opt/conda/lib/python3.11/site-packages (from pymc) (3.0.0)\n",
      "Collecting numpy>=1.25.0 (from pymc)\n",
      "  Using cached numpy-2.3.2-cp311-cp311-manylinux_2_27_x86_64.manylinux_2_28_x86_64.whl.metadata (62 kB)\n",
      "Requirement already satisfied: pandas>=0.24.0 in /opt/conda/lib/python3.11/site-packages (from pymc) (2.3.1)\n",
      "Requirement already satisfied: pytensor<2.32,>=2.31.7 in /opt/conda/lib/python3.11/site-packages (from pymc) (2.31.7)\n",
      "Requirement already satisfied: rich>=13.7.1 in /opt/conda/lib/python3.11/site-packages (from pymc) (14.1.0)\n",
      "Requirement already satisfied: scipy>=1.4.1 in /opt/conda/lib/python3.11/site-packages (from pymc) (1.11.3)\n",
      "Requirement already satisfied: threadpoolctl<4.0.0,>=3.1.0 in /opt/conda/lib/python3.11/site-packages (from pymc) (3.2.0)\n",
      "Requirement already satisfied: typing-extensions>=3.7.4 in /opt/conda/lib/python3.11/site-packages (from pymc) (4.13.2)\n",
      "Requirement already satisfied: setuptools>=60.0.0 in /opt/conda/lib/python3.11/site-packages (from arviz>=0.13.0->pymc) (68.2.2)\n",
      "Requirement already satisfied: matplotlib>=3.8 in /opt/conda/lib/python3.11/site-packages (from arviz>=0.13.0->pymc) (3.8.0)\n",
      "Requirement already satisfied: packaging in /opt/conda/lib/python3.11/site-packages (from arviz>=0.13.0->pymc) (25.0)\n",
      "Requirement already satisfied: xarray>=2023.7.0 in /opt/conda/lib/python3.11/site-packages (from arviz>=0.13.0->pymc) (2025.7.1)\n",
      "Requirement already satisfied: h5netcdf>=1.0.2 in /opt/conda/lib/python3.11/site-packages (from arviz>=0.13.0->pymc) (1.6.3)\n",
      "Requirement already satisfied: xarray-einstats>=0.3 in /opt/conda/lib/python3.11/site-packages (from arviz>=0.13.0->pymc) (0.9.1)\n",
      "Requirement already satisfied: python-dateutil>=2.8.2 in /opt/conda/lib/python3.11/site-packages (from pandas>=0.24.0->pymc) (2.8.2)\n",
      "Requirement already satisfied: pytz>=2020.1 in /opt/conda/lib/python3.11/site-packages (from pandas>=0.24.0->pymc) (2023.3.post1)\n",
      "Requirement already satisfied: tzdata>=2022.7 in /opt/conda/lib/python3.11/site-packages (from pandas>=0.24.0->pymc) (2023.3)\n",
      "Requirement already satisfied: filelock>=3.15 in /opt/conda/lib/python3.11/site-packages (from pytensor<2.32,>=2.31.7->pymc) (3.18.0)\n",
      "Requirement already satisfied: etuples in /opt/conda/lib/python3.11/site-packages (from pytensor<2.32,>=2.31.7->pymc) (0.3.10)\n",
      "Requirement already satisfied: logical-unification in /opt/conda/lib/python3.11/site-packages (from pytensor<2.32,>=2.31.7->pymc) (0.4.6)\n",
      "Requirement already satisfied: miniKanren in /opt/conda/lib/python3.11/site-packages (from pytensor<2.32,>=2.31.7->pymc) (1.0.5)\n",
      "Requirement already satisfied: cons in /opt/conda/lib/python3.11/site-packages (from pytensor<2.32,>=2.31.7->pymc) (0.4.7)\n",
      "Requirement already satisfied: markdown-it-py>=2.2.0 in /opt/conda/lib/python3.11/site-packages (from rich>=13.7.1->pymc) (3.0.0)\n",
      "Requirement already satisfied: pygments<3.0.0,>=2.13.0 in /opt/conda/lib/python3.11/site-packages (from rich>=13.7.1->pymc) (2.16.1)\n",
      "  Using cached numpy-1.26.4-cp311-cp311-manylinux_2_17_x86_64.manylinux2014_x86_64.whl.metadata (61 kB)\n",
      "Requirement already satisfied: h5py in /opt/conda/lib/python3.11/site-packages (from h5netcdf>=1.0.2->arviz>=0.13.0->pymc) (3.10.0)\n",
      "Requirement already satisfied: mdurl~=0.1 in /opt/conda/lib/python3.11/site-packages (from markdown-it-py>=2.2.0->rich>=13.7.1->pymc) (0.1.2)\n",
      "Requirement already satisfied: contourpy>=1.0.1 in /opt/conda/lib/python3.11/site-packages (from matplotlib>=3.8->arviz>=0.13.0->pymc) (1.1.1)\n",
      "Requirement already satisfied: cycler>=0.10 in /opt/conda/lib/python3.11/site-packages (from matplotlib>=3.8->arviz>=0.13.0->pymc) (0.12.1)\n",
      "Requirement already satisfied: fonttools>=4.22.0 in /opt/conda/lib/python3.11/site-packages (from matplotlib>=3.8->arviz>=0.13.0->pymc) (4.43.1)\n",
      "Requirement already satisfied: kiwisolver>=1.0.1 in /opt/conda/lib/python3.11/site-packages (from matplotlib>=3.8->arviz>=0.13.0->pymc) (1.4.5)\n",
      "Requirement already satisfied: pillow>=6.2.0 in /opt/conda/lib/python3.11/site-packages (from matplotlib>=3.8->arviz>=0.13.0->pymc) (10.1.0)\n",
      "Requirement already satisfied: pyparsing>=2.3.1 in /opt/conda/lib/python3.11/site-packages (from matplotlib>=3.8->arviz>=0.13.0->pymc) (3.1.1)\n",
      "Requirement already satisfied: six>=1.5 in /opt/conda/lib/python3.11/site-packages (from python-dateutil>=2.8.2->pandas>=0.24.0->pymc) (1.16.0)\n",
      "Requirement already satisfied: toolz in /opt/conda/lib/python3.11/site-packages (from logical-unification->pytensor<2.32,>=2.31.7->pymc) (0.12.0)\n",
      "Requirement already satisfied: multipledispatch in /opt/conda/lib/python3.11/site-packages (from logical-unification->pytensor<2.32,>=2.31.7->pymc) (1.0.0)\n",
      "Using cached numpy-1.26.4-cp311-cp311-manylinux_2_17_x86_64.manylinux2014_x86_64.whl (18.3 MB)\n",
      "Installing collected packages: numpy\n",
      "  Attempting uninstall: numpy\n",
      "    Found existing installation: numpy 1.23.5\n",
      "    Uninstalling numpy-1.23.5:\n",
      "      Successfully uninstalled numpy-1.23.5\n",
      "\u001b[31mERROR: pip's dependency resolver does not currently take into account all the packages that are installed. This behaviour is the source of the following dependency conflicts.\n",
      "numba 0.57.1 requires numpy<1.25,>=1.21, but you have numpy 1.26.4 which is incompatible.\u001b[0m\u001b[31m\n",
      "\u001b[0mSuccessfully installed numpy-1.26.4\n"
     ]
    }
   ],
   "source": [
    "!pip install --upgrade pymc"
   ]
  },
  {
   "cell_type": "code",
   "execution_count": 8,
   "id": "006a2d1e-b2f5-4ca6-989d-cdc933943185",
   "metadata": {},
   "outputs": [
    {
     "name": "stdout",
     "output_type": "stream",
     "text": [
      "Collecting numpy==1.23.5\n",
      "  Using cached numpy-1.23.5-cp311-cp311-manylinux_2_17_x86_64.manylinux2014_x86_64.whl.metadata (2.3 kB)\n",
      "Using cached numpy-1.23.5-cp311-cp311-manylinux_2_17_x86_64.manylinux2014_x86_64.whl (17.1 MB)\n",
      "Installing collected packages: numpy\n",
      "  Attempting uninstall: numpy\n",
      "    Found existing installation: numpy 1.26.4\n",
      "    Uninstalling numpy-1.26.4:\n",
      "      Successfully uninstalled numpy-1.26.4\n",
      "\u001b[31mERROR: pip's dependency resolver does not currently take into account all the packages that are installed. This behaviour is the source of the following dependency conflicts.\n",
      "xarray 2025.7.1 requires numpy>=1.26, but you have numpy 1.23.5 which is incompatible.\n",
      "pymc 5.25.1 requires numpy>=1.25.0, but you have numpy 1.23.5 which is incompatible.\n",
      "xarray-einstats 0.9.1 requires numpy>=1.25, but you have numpy 1.23.5 which is incompatible.\n",
      "arviz 0.22.0 requires numpy>=1.26.0, but you have numpy 1.23.5 which is incompatible.\u001b[0m\u001b[31m\n",
      "\u001b[0mSuccessfully installed numpy-1.23.5\n"
     ]
    }
   ],
   "source": [
    "!pip install numpy==1.23.5"
   ]
  },
  {
   "cell_type": "code",
   "execution_count": 55,
   "id": "ad4b212c-339d-40ff-ab47-b9bdf0251926",
   "metadata": {},
   "outputs": [],
   "source": [
    "# Bayesian Polynomial Regression\n",
    "import pymc as pm"
   ]
  },
  {
   "cell_type": "code",
   "execution_count": 56,
   "id": "18a35119-e1d4-42c3-98da-24a195285679",
   "metadata": {},
   "outputs": [],
   "source": [
    "df = df_centered\n",
    "\n",
    "# Step 1: stack replicates\n",
    "x = np.repeat(df.index.astype(float).values, 3)  # repeat each wavenumber 3 times\n",
    "y = df.iloc[:, 0:3].values.flatten()  # flatten the 3 columns into one long vector"
   ]
  },
  {
   "cell_type": "code",
   "execution_count": 57,
   "id": "c3252bd0-db3c-453e-aed2-931a2378a41a",
   "metadata": {},
   "outputs": [],
   "source": [
    "# Step 2: Normalize x for numerical stability\n",
    "# x_norm = (x - np.mean(x)) / np.std(x)\n",
    "x_norm = np.repeat(df.index.astype(float).values,1)"
   ]
  },
  {
   "cell_type": "code",
   "execution_count": 58,
   "id": "fb9a6d57-0f5d-48da-93aa-9b4993a8ada3",
   "metadata": {},
   "outputs": [
    {
     "data": {
      "text/plain": [
       "array([0.000e+00, 1.000e+00, 2.000e+00, ..., 1.337e+03, 1.338e+03,\n",
       "       1.339e+03])"
      ]
     },
     "execution_count": 58,
     "metadata": {},
     "output_type": "execute_result"
    }
   ],
   "source": [
    "x_norm"
   ]
  },
  {
   "cell_type": "code",
   "execution_count": 64,
   "id": "ef74e7d9-2217-401c-8667-28c10d780e82",
   "metadata": {},
   "outputs": [
    {
     "ename": "AttributeError",
     "evalue": "'numpy.random._generator.Generator' object has no attribute 'spawn'",
     "output_type": "error",
     "traceback": [
      "\u001b[0;31m---------------------------------------------------------------------------\u001b[0m",
      "\u001b[0;31mAttributeError\u001b[0m                            Traceback (most recent call last)",
      "Cell \u001b[0;32mIn[64], line 20\u001b[0m\n\u001b[1;32m     16\u001b[0m     y_obs \u001b[38;5;241m=\u001b[39m pm\u001b[38;5;241m.\u001b[39mNormal(\u001b[38;5;124m\"\u001b[39m\u001b[38;5;124my_obs\u001b[39m\u001b[38;5;124m\"\u001b[39m, mu\u001b[38;5;241m=\u001b[39mmu, sigma\u001b[38;5;241m=\u001b[39msigma, observed\u001b[38;5;241m=\u001b[39my)\n\u001b[1;32m     18\u001b[0m     \u001b[38;5;66;03m# Sample\u001b[39;00m\n\u001b[1;32m     19\u001b[0m     \u001b[38;5;66;03m# trace = pm.sample(1000, tune=1000, target_accept=0.95, cores=2, progressbar=True) this line errors because of numpy.spawn issues\u001b[39;00m\n\u001b[0;32m---> 20\u001b[0m     trace \u001b[38;5;241m=\u001b[39m \u001b[43mpm\u001b[49m\u001b[38;5;241;43m.\u001b[39;49m\u001b[43msample\u001b[49m\u001b[43m(\u001b[49m\u001b[38;5;241;43m1000\u001b[39;49m\u001b[43m,\u001b[49m\u001b[43m \u001b[49m\u001b[43mtune\u001b[49m\u001b[38;5;241;43m=\u001b[39;49m\u001b[38;5;241;43m1000\u001b[39;49m\u001b[43m,\u001b[49m\u001b[43m \u001b[49m\u001b[43mtarget_accept\u001b[49m\u001b[38;5;241;43m=\u001b[39;49m\u001b[38;5;241;43m0.95\u001b[39;49m\u001b[43m,\u001b[49m\u001b[43m \u001b[49m\u001b[43mchains\u001b[49m\u001b[38;5;241;43m=\u001b[39;49m\u001b[38;5;241;43m1\u001b[39;49m\u001b[43m,\u001b[49m\u001b[43m \u001b[49m\u001b[43mcores\u001b[49m\u001b[38;5;241;43m=\u001b[39;49m\u001b[38;5;241;43m1\u001b[39;49m\u001b[43m,\u001b[49m\u001b[43m \u001b[49m\u001b[43mrandom_seed\u001b[49m\u001b[38;5;241;43m=\u001b[39;49m\u001b[38;5;241;43m42\u001b[39;49m\u001b[43m)\u001b[49m\n\u001b[1;32m     21\u001b[0m \u001b[38;5;66;03m# Posterior prediction (mean of fitted model)\u001b[39;00m\n\u001b[1;32m     22\u001b[0m posterior_coeffs \u001b[38;5;241m=\u001b[39m trace\u001b[38;5;241m.\u001b[39mposterior[\u001b[38;5;124m\"\u001b[39m\u001b[38;5;124mcoeffs\u001b[39m\u001b[38;5;124m\"\u001b[39m]\u001b[38;5;241m.\u001b[39mmean(dim\u001b[38;5;241m=\u001b[39m[\u001b[38;5;124m\"\u001b[39m\u001b[38;5;124mchain\u001b[39m\u001b[38;5;124m\"\u001b[39m, \u001b[38;5;124m\"\u001b[39m\u001b[38;5;124mdraw\u001b[39m\u001b[38;5;124m\"\u001b[39m])\u001b[38;5;241m.\u001b[39mvalues\n",
      "File \u001b[0;32m/opt/conda/lib/python3.11/site-packages/pymc/sampling/mcmc.py:762\u001b[0m, in \u001b[0;36msample\u001b[0;34m(draws, tune, chains, cores, random_seed, progressbar, progressbar_theme, step, var_names, nuts_sampler, initvals, init, jitter_max_retries, n_init, trace, discard_tuned_samples, compute_convergence_checks, keep_warning_stat, return_inferencedata, idata_kwargs, nuts_sampler_kwargs, callback, mp_ctx, blas_cores, model, compile_kwargs, **kwargs)\u001b[0m\n\u001b[1;32m    756\u001b[0m \u001b[38;5;28;01melif\u001b[39;00m \u001b[38;5;28misinstance\u001b[39m(random_seed, \u001b[38;5;28mtuple\u001b[39m \u001b[38;5;241m|\u001b[39m \u001b[38;5;28mlist\u001b[39m):\n\u001b[1;32m    757\u001b[0m     warnings\u001b[38;5;241m.\u001b[39mwarn(\n\u001b[1;32m    758\u001b[0m         \u001b[38;5;124m\"\u001b[39m\u001b[38;5;124mA list or tuple of random_seed no longer specifies the specific random_seed of each chain. \u001b[39m\u001b[38;5;124m\"\u001b[39m\n\u001b[1;32m    759\u001b[0m         \u001b[38;5;124m\"\u001b[39m\u001b[38;5;124mUse a single seed instead.\u001b[39m\u001b[38;5;124m\"\u001b[39m,\n\u001b[1;32m    760\u001b[0m         \u001b[38;5;167;01mUserWarning\u001b[39;00m,\n\u001b[1;32m    761\u001b[0m     )\n\u001b[0;32m--> 762\u001b[0m rngs \u001b[38;5;241m=\u001b[39m \u001b[43mget_random_generator\u001b[49m\u001b[43m(\u001b[49m\u001b[43mrandom_seed\u001b[49m\u001b[43m)\u001b[49m\u001b[38;5;241;43m.\u001b[39;49m\u001b[43mspawn\u001b[49m(chains)\n\u001b[1;32m    763\u001b[0m random_seed_list \u001b[38;5;241m=\u001b[39m [rng\u001b[38;5;241m.\u001b[39mintegers(\u001b[38;5;241m2\u001b[39m\u001b[38;5;241m*\u001b[39m\u001b[38;5;241m*\u001b[39m\u001b[38;5;241m30\u001b[39m) \u001b[38;5;28;01mfor\u001b[39;00m rng \u001b[38;5;129;01min\u001b[39;00m rngs]\n\u001b[1;32m    765\u001b[0m \u001b[38;5;28;01mif\u001b[39;00m \u001b[38;5;129;01mnot\u001b[39;00m discard_tuned_samples \u001b[38;5;129;01mand\u001b[39;00m \u001b[38;5;129;01mnot\u001b[39;00m return_inferencedata \u001b[38;5;129;01mand\u001b[39;00m \u001b[38;5;129;01mnot\u001b[39;00m \u001b[38;5;28misinstance\u001b[39m(trace, ZarrTrace):\n",
      "\u001b[0;31mAttributeError\u001b[0m: 'numpy.random._generator.Generator' object has no attribute 'spawn'"
     ]
    }
   ],
   "source": [
    "# Step 3: Bayesian polynomial regression model\n",
    "degree = 5  # polynomial degree\n",
    "\n",
    "with pm.Model() as model:\n",
    "    # Priors for polynomial coefficients\n",
    "    coeffs = pm.Normal(\"coeffs\", mu=0, sigma=10, shape=(degree + 1,))\n",
    "    \n",
    "    # Polynomial features\n",
    "    X_poly = np.vstack([x_norm**i for i in range(degree + 1)]).T\n",
    "    mu = pm.math.dot(X_poly, coeffs)\n",
    "\n",
    "    # Observation noise (shared across all points)\n",
    "    sigma = pm.HalfNormal(\"sigma\", sigma=1.0)\n",
    "\n",
    "    # Likelihood\n",
    "    y_obs = pm.Normal(\"y_obs\", mu=mu, sigma=sigma, observed=y)\n",
    "\n",
    "    # Sample\n",
    "    # trace = pm.sample(1000, tune=1000, target_accept=0.95, cores=2, progressbar=True) this line errors because of numpy.spawn issues\n",
    "    trace = pm.sample(1000, tune=1000, target_accept=0.95, chains=1, cores=1, random_seed=42)\n",
    "# Posterior prediction (mean of fitted model)\n",
    "posterior_coeffs = trace.posterior[\"coeffs\"].mean(dim=[\"chain\", \"draw\"]).values\n",
    "\n",
    "# Plot original data (with jitter to separate replicates visually)\n",
    "x_unique = df.index.astype(float).values\n",
    "x_jittered = [x_unique + j*0.1 for j in [-1, 0, 1]]\n",
    "y_reps = [df.iloc[:, j].values for j in range(3)]\n",
    "\n",
    "plt.figure(figsize=(10, 5))\n",
    "for i in range(3):\n",
    "    plt.plot(x_jittered[i], y_reps[i], '.', color='gray', alpha=0.6)\n",
    "\n",
    "# Plot fitted curve\n",
    "x_plot = np.linspace(min(x), max(x), 500)\n",
    "x_plot_norm = (x_plot - np.mean(x)) / np.std(x)\n",
    "X_plot_poly = np.vstack([x_plot_norm**i for i in range(degree + 1)]).T\n",
    "y_fit = np.dot(X_plot_poly, posterior_coeffs)\n",
    "\n",
    "plt.plot(x_plot, y_fit, color='black', linewidth=2, label='Bayesian Fit')\n",
    "plt.xlabel(\"Raman Shift (cm⁻¹)\")\n",
    "plt.ylabel(\"Centered Intensity (a.u.)\")\n",
    "plt.title(\"Bayesian Polynomial Fit with Replicate Uncertainty\")\n",
    "plt.legend()\n",
    "plt.tight_layout()\n",
    "plt.show()"
   ]
  },
  {
   "cell_type": "code",
   "execution_count": 42,
   "id": "47904250-1e6f-40cf-a175-f9ec0bb22e98",
   "metadata": {},
   "outputs": [
    {
     "ename": "AttributeError",
     "evalue": "'numpy.random._generator.Generator' object has no attribute 'spawn'",
     "output_type": "error",
     "traceback": [
      "\u001b[0;31m---------------------------------------------------------------------------\u001b[0m",
      "\u001b[0;31mAttributeError\u001b[0m                            Traceback (most recent call last)",
      "Cell \u001b[0;32mIn[42], line 19\u001b[0m\n\u001b[1;32m     16\u001b[0m x_obs \u001b[38;5;241m=\u001b[39m pm\u001b[38;5;241m.\u001b[39mNormal(\u001b[38;5;124m\"\u001b[39m\u001b[38;5;124mx_obs\u001b[39m\u001b[38;5;124m\"\u001b[39m, mu\u001b[38;5;241m=\u001b[39mmu, sigma\u001b[38;5;241m=\u001b[39msigma, observed\u001b[38;5;241m=\u001b[39mx)\n\u001b[1;32m     18\u001b[0m \u001b[38;5;66;03m# Inference\u001b[39;00m\n\u001b[0;32m---> 19\u001b[0m trace \u001b[38;5;241m=\u001b[39m \u001b[43mpm\u001b[49m\u001b[38;5;241;43m.\u001b[39;49m\u001b[43msample\u001b[49m\u001b[43m(\u001b[49m\u001b[38;5;241;43m1000\u001b[39;49m\u001b[43m,\u001b[49m\u001b[43m \u001b[49m\u001b[43mtune\u001b[49m\u001b[38;5;241;43m=\u001b[39;49m\u001b[38;5;241;43m1000\u001b[39;49m\u001b[43m,\u001b[49m\u001b[43m \u001b[49m\u001b[43mcores\u001b[49m\u001b[38;5;241;43m=\u001b[39;49m\u001b[38;5;241;43m2\u001b[39;49m\u001b[43m,\u001b[49m\u001b[43m \u001b[49m\u001b[43mprogressbar\u001b[49m\u001b[38;5;241;43m=\u001b[39;49m\u001b[38;5;28;43;01mTrue\u001b[39;49;00m\u001b[43m)\u001b[49m\n",
      "File \u001b[0;32m/opt/conda/lib/python3.11/site-packages/pymc/sampling/mcmc.py:762\u001b[0m, in \u001b[0;36msample\u001b[0;34m(draws, tune, chains, cores, random_seed, progressbar, progressbar_theme, step, var_names, nuts_sampler, initvals, init, jitter_max_retries, n_init, trace, discard_tuned_samples, compute_convergence_checks, keep_warning_stat, return_inferencedata, idata_kwargs, nuts_sampler_kwargs, callback, mp_ctx, blas_cores, model, compile_kwargs, **kwargs)\u001b[0m\n\u001b[1;32m    756\u001b[0m \u001b[38;5;28;01melif\u001b[39;00m \u001b[38;5;28misinstance\u001b[39m(random_seed, \u001b[38;5;28mtuple\u001b[39m \u001b[38;5;241m|\u001b[39m \u001b[38;5;28mlist\u001b[39m):\n\u001b[1;32m    757\u001b[0m     warnings\u001b[38;5;241m.\u001b[39mwarn(\n\u001b[1;32m    758\u001b[0m         \u001b[38;5;124m\"\u001b[39m\u001b[38;5;124mA list or tuple of random_seed no longer specifies the specific random_seed of each chain. \u001b[39m\u001b[38;5;124m\"\u001b[39m\n\u001b[1;32m    759\u001b[0m         \u001b[38;5;124m\"\u001b[39m\u001b[38;5;124mUse a single seed instead.\u001b[39m\u001b[38;5;124m\"\u001b[39m,\n\u001b[1;32m    760\u001b[0m         \u001b[38;5;167;01mUserWarning\u001b[39;00m,\n\u001b[1;32m    761\u001b[0m     )\n\u001b[0;32m--> 762\u001b[0m rngs \u001b[38;5;241m=\u001b[39m \u001b[43mget_random_generator\u001b[49m\u001b[43m(\u001b[49m\u001b[43mrandom_seed\u001b[49m\u001b[43m)\u001b[49m\u001b[38;5;241;43m.\u001b[39;49m\u001b[43mspawn\u001b[49m(chains)\n\u001b[1;32m    763\u001b[0m random_seed_list \u001b[38;5;241m=\u001b[39m [rng\u001b[38;5;241m.\u001b[39mintegers(\u001b[38;5;241m2\u001b[39m\u001b[38;5;241m*\u001b[39m\u001b[38;5;241m*\u001b[39m\u001b[38;5;241m30\u001b[39m) \u001b[38;5;28;01mfor\u001b[39;00m rng \u001b[38;5;129;01min\u001b[39;00m rngs]\n\u001b[1;32m    765\u001b[0m \u001b[38;5;28;01mif\u001b[39;00m \u001b[38;5;129;01mnot\u001b[39;00m discard_tuned_samples \u001b[38;5;129;01mand\u001b[39;00m \u001b[38;5;129;01mnot\u001b[39;00m return_inferencedata \u001b[38;5;129;01mand\u001b[39;00m \u001b[38;5;129;01mnot\u001b[39;00m \u001b[38;5;28misinstance\u001b[39m(trace, ZarrTrace):\n",
      "\u001b[0;31mAttributeError\u001b[0m: 'numpy.random._generator.Generator' object has no attribute 'spawn'"
     ]
    }
   ],
   "source": [
    "# Degree of polynomial\n",
    "degree = 5\n",
    "\n",
    "with pm.Model() as model:\n",
    "    # Priors for polynomial coefficients\n",
    "    coeffs = pm.Normal(\"coeffs\", mu=0, sigma=10, shape=(degree + 1,))\n",
    "    \n",
    "    # Model equation\n",
    "    Y_poly = np.vstack([y ** i for i in range(degree + 1)]).T\n",
    "    mu = pm.math.dot(Y_poly, coeffs)\n",
    "    \n",
    "    # Observation noise\n",
    "    sigma = pm.HalfNormal(\"sigma\", sigma=1.0)\n",
    "    \n",
    "    # Likelihood\n",
    "    x_obs = pm.Normal(\"x_obs\", mu=mu, sigma=sigma, observed=x)\n",
    "    \n",
    "    # Inference\n",
    "    trace = pm.sample(1000, tune=1000, cores=2, progressbar=True)"
   ]
  },
  {
   "cell_type": "code",
   "execution_count": null,
   "id": "dbac94b3-dcab-41b3-88f9-5979be630508",
   "metadata": {},
   "outputs": [],
   "source": [
    "# Bayesian Polynomial Regression\n",
    "import pymc as pm\n",
    "df = df_centered\n",
    "# Example: use one row of your spectrum\n",
    "x = df.columns.astype(float)\n",
    "y = df.iloc[0].values.astype(float)  # First spectrum\n",
    "\n",
    "# Normalize x for stability\n",
    "x_norm = (x - np.mean(x)) / np.std(x)\n",
    "\n",
    "# Degree of polynomial\n",
    "degree = 5\n",
    "\n",
    "with pm.Model() as model:\n",
    "    # Priors for polynomial coefficients\n",
    "    coeffs = pm.Normal(\"coeffs\", mu=0, sigma=10, shape=(degree + 1,))\n",
    "    \n",
    "    # Model equation\n",
    "    X_poly = np.vstack([x_norm ** i for i in range(degree + 1)]).T\n",
    "    mu = pm.math.dot(X_poly, coeffs)\n",
    "    \n",
    "    # Observation noise\n",
    "    sigma = pm.HalfNormal(\"sigma\", sigma=1.0)\n",
    "    \n",
    "    # Likelihood\n",
    "    y_obs = pm.Normal(\"y_obs\", mu=mu, sigma=sigma, observed=y)\n",
    "    \n",
    "    # Inference\n",
    "    trace = pm.sample(1000, tune=1000, cores=2, progressbar=True)\n",
    "\n",
    "# Posterior mean prediction\n",
    "posterior_means = trace.posterior[\"coeffs\"].mean(dim=[\"chain\", \"draw\"]).values\n",
    "y_fit = np.dot(X_poly, posterior_means)\n",
    "\n",
    "# Plot result\n",
    "plt.figure(figsize=(10, 5))\n",
    "plt.plot(x, y, label=\"Observed\", color='gray')\n",
    "plt.plot(x, y_fit, label=\"Bayesian Fit\", color='black', linewidth=2)\n",
    "plt.xlabel(\"Raman Shift (cm⁻¹)\")\n",
    "plt.ylabel(\"Intensity (a.u.)\")\n",
    "plt.title(\"Bayesian Polynomial Fit to Raman Spectrum\")\n",
    "plt.legend()\n",
    "plt.tight_layout()\n",
    "plt.show()"
   ]
  },
  {
   "cell_type": "code",
   "execution_count": null,
   "id": "5325c516-8731-4764-adb1-bb4ac9796157",
   "metadata": {},
   "outputs": [],
   "source": [
    "# Plot the Raman spectrum\n",
    "plt.figure(figsize=(12, 6))\n",
    "plt.plot(wavenumbers, intensities, label=\"Blank Paper\")\n",
    "plt.xlabel(\"Raman Shift (cm⁻¹)\")\n",
    "plt.ylabel(\"Intensity (a.u.)\")\n",
    "plt.title(\"Raman Spectrum of Blank Chromatography Paper\")\n",
    "plt.xlim(100, 1000)  # focus on lower wavenumber region\n",
    "plt.grid(True)\n",
    "plt.legend()\n",
    "plt.tight_layout()\n",
    "plt.show()"
   ]
  },
  {
   "cell_type": "code",
   "execution_count": null,
   "id": "846727f7-878d-4308-bc10-dfea72ff01c6",
   "metadata": {},
   "outputs": [],
   "source": [
    "# Define a simple baseline correction using polynomial fitting with RANSAC\n",
    "def baseline_correction(x, y, window_length=51, polyorder=3):\n",
    "    # Smooth the data to approximate the baseline\n",
    "    smoothed = savgol_filter(y, window_length, polyorder)\n",
    "    # Subtract smoothed baseline from original\n",
    "    corrected = y - smoothed\n",
    "    return corrected\n",
    "\n",
    "# Apply baseline correction to Sample 29\n",
    "baseline_corrected_29 = baseline_correction(wavenumbers3, residual_intensity_3)\n",
    "\n",
    "# Plot the corrected spectrum\n",
    "plt.figure(figsize=(12, 6))\n",
    "plt.plot(wavenumbers3, baseline_corrected_29, label=\"Sample 29 (Baseline Corrected)\", color=\"purple\")\n",
    "plt.xlabel(\"Raman Shift (cm⁻¹)\")\n",
    "plt.ylabel(\"Corrected Intensity (a.u.)\")\n",
    "plt.title(\"Baseline-Corrected Raman Spectrum: Sample 29 (Eucalyptus Oil + AgNPs)\")\n",
    "plt.xlim(100, 1000)\n",
    "plt.axhline(0, color='gray', linestyle='--', linewidth=1)\n",
    "plt.grid(True)"
   ]
  }
 ],
 "metadata": {
  "kernelspec": {
   "display_name": "PyMC VOC (safe)",
   "language": "python",
   "name": "pymc-voc"
  },
  "language_info": {
   "codemirror_mode": {
    "name": "ipython",
    "version": 3
   },
   "file_extension": ".py",
   "mimetype": "text/x-python",
   "name": "python",
   "nbconvert_exporter": "python",
   "pygments_lexer": "ipython3",
   "version": "3.11.6"
  }
 },
 "nbformat": 4,
 "nbformat_minor": 5
}
